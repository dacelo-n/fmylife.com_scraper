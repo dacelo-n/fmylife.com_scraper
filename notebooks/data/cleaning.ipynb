{
 "cells": [
  {
   "cell_type": "code",
   "execution_count": 1,
   "metadata": {},
   "outputs": [],
   "source": [
    "import numpy as np\n",
    "import sys\n",
    "import pandas as pd\n",
    "sys.path.append('../../')\n",
    "\n",
    "from src.data.cleaning import clean_raw"
   ]
  },
  {
   "attachments": {},
   "cell_type": "markdown",
   "metadata": {},
   "source": [
    "### Load data"
   ]
  },
  {
   "cell_type": "code",
   "execution_count": 2,
   "metadata": {},
   "outputs": [
    {
     "name": "stdout",
     "output_type": "stream",
     "text": [
      "(27588, 6)\n"
     ]
    },
    {
     "data": {
      "text/html": [
       "<div>\n",
       "<style scoped>\n",
       "    .dataframe tbody tr th:only-of-type {\n",
       "        vertical-align: middle;\n",
       "    }\n",
       "\n",
       "    .dataframe tbody tr th {\n",
       "        vertical-align: top;\n",
       "    }\n",
       "\n",
       "    .dataframe thead th {\n",
       "        text-align: right;\n",
       "    }\n",
       "</style>\n",
       "<table border=\"1\" class=\"dataframe\">\n",
       "  <thead>\n",
       "    <tr style=\"text-align: right;\">\n",
       "      <th></th>\n",
       "      <th>title</th>\n",
       "      <th>meta</th>\n",
       "      <th>gender</th>\n",
       "      <th>body</th>\n",
       "      <th>agree</th>\n",
       "      <th>deserved</th>\n",
       "    </tr>\n",
       "  </thead>\n",
       "  <tbody>\n",
       "    <tr>\n",
       "      <th>0</th>\n",
       "      <td>Sore loser</td>\n",
       "      <td>\\n                By Anonymous , - 13/03/2024 ...</td>\n",
       "      <td>fa fa-male,fa fa-share,fa-brands fa-x-twitter ...</td>\n",
       "      <td>\\n        Today, I have an excruciatingly sore...</td>\n",
       "      <td>18</td>\n",
       "      <td>1</td>\n",
       "    </tr>\n",
       "    <tr>\n",
       "      <th>1</th>\n",
       "      <td>Connoisseur</td>\n",
       "      <td>\\n                By Anonymous , - 13/03/2024 ...</td>\n",
       "      <td>fa fa-female,fa fa-share,fa-brands fa-x-twitte...</td>\n",
       "      <td>\\n        Today, I was reprimanded by my mom a...</td>\n",
       "      <td>43</td>\n",
       "      <td>23</td>\n",
       "    </tr>\n",
       "  </tbody>\n",
       "</table>\n",
       "</div>"
      ],
      "text/plain": [
       "         title                                               meta  \\\n",
       "0   Sore loser  \\n                By Anonymous , - 13/03/2024 ...   \n",
       "1  Connoisseur  \\n                By Anonymous , - 13/03/2024 ...   \n",
       "\n",
       "                                              gender  \\\n",
       "0  fa fa-male,fa fa-share,fa-brands fa-x-twitter ...   \n",
       "1  fa fa-female,fa fa-share,fa-brands fa-x-twitte...   \n",
       "\n",
       "                                                body agree deserved  \n",
       "0  \\n        Today, I have an excruciatingly sore...    18        1  \n",
       "1  \\n        Today, I was reprimanded by my mom a...    43       23  "
      ]
     },
     "execution_count": 2,
     "metadata": {},
     "output_type": "execute_result"
    }
   ],
   "source": [
    "df = pd.read_csv('../../data/raw/raw_scraped.csv')\n",
    "print(df.shape)\n",
    "df.head(2)"
   ]
  },
  {
   "cell_type": "markdown",
   "metadata": {},
   "source": [
    "## CLEANING"
   ]
  },
  {
   "cell_type": "code",
   "execution_count": 3,
   "metadata": {},
   "outputs": [
    {
     "data": {
      "text/html": [
       "<div>\n",
       "<style scoped>\n",
       "    .dataframe tbody tr th:only-of-type {\n",
       "        vertical-align: middle;\n",
       "    }\n",
       "\n",
       "    .dataframe tbody tr th {\n",
       "        vertical-align: top;\n",
       "    }\n",
       "\n",
       "    .dataframe thead th {\n",
       "        text-align: right;\n",
       "    }\n",
       "</style>\n",
       "<table border=\"1\" class=\"dataframe\">\n",
       "  <thead>\n",
       "    <tr style=\"text-align: right;\">\n",
       "      <th></th>\n",
       "      <th>title</th>\n",
       "      <th>gender</th>\n",
       "      <th>body</th>\n",
       "      <th>agree</th>\n",
       "      <th>deserved</th>\n",
       "      <th>user</th>\n",
       "      <th>date</th>\n",
       "      <th>time</th>\n",
       "      <th>location</th>\n",
       "    </tr>\n",
       "  </thead>\n",
       "  <tbody>\n",
       "    <tr>\n",
       "      <th>0</th>\n",
       "      <td>sore loser</td>\n",
       "      <td>male</td>\n",
       "      <td>today, i have an excruciatingly sore throat du...</td>\n",
       "      <td>18</td>\n",
       "      <td>1</td>\n",
       "      <td>anonymous</td>\n",
       "      <td>13/03/2024</td>\n",
       "      <td>08:00</td>\n",
       "      <td>united states</td>\n",
       "    </tr>\n",
       "    <tr>\n",
       "      <th>1</th>\n",
       "      <td>connoisseur</td>\n",
       "      <td>male</td>\n",
       "      <td>today, i was reprimanded by my mom and her cur...</td>\n",
       "      <td>43</td>\n",
       "      <td>23</td>\n",
       "      <td>anonymous</td>\n",
       "      <td>13/03/2024</td>\n",
       "      <td>06:00</td>\n",
       "      <td>united states</td>\n",
       "    </tr>\n",
       "  </tbody>\n",
       "</table>\n",
       "</div>"
      ],
      "text/plain": [
       "         title gender                                               body  \\\n",
       "0   sore loser   male  today, i have an excruciatingly sore throat du...   \n",
       "1  connoisseur   male  today, i was reprimanded by my mom and her cur...   \n",
       "\n",
       "   agree  deserved       user        date   time       location  \n",
       "0     18         1  anonymous  13/03/2024  08:00  united states  \n",
       "1     43        23  anonymous  13/03/2024  06:00  united states  "
      ]
     },
     "execution_count": 3,
     "metadata": {},
     "output_type": "execute_result"
    }
   ],
   "source": [
    "new = clean_raw(df)\n",
    "new.head(2)"
   ]
  }
 ],
 "metadata": {
  "kernelspec": {
   "display_name": "fmylife.com_scraper-HKOZ2pYs",
   "language": "python",
   "name": "python3"
  },
  "language_info": {
   "codemirror_mode": {
    "name": "ipython",
    "version": 3
   },
   "file_extension": ".py",
   "mimetype": "text/x-python",
   "name": "python",
   "nbconvert_exporter": "python",
   "pygments_lexer": "ipython3",
   "version": "3.11.2"
  },
  "orig_nbformat": 4
 },
 "nbformat": 4,
 "nbformat_minor": 2
}
